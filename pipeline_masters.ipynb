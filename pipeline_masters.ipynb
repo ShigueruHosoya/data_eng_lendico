{
 "cells": [
  {
   "cell_type": "code",
   "execution_count": 133,
   "metadata": {},
   "outputs": [],
   "source": [
    "import requests\n",
    "import json\n",
    "import pandas as pd\n",
    "from datetime import datetime\n",
    "import time\n",
    "from time import sleep\n",
    "from itertools import chain\n",
    "import sqlite3\n",
    "import pytz\n",
    "\n",
    "tz = pytz.timezone('America/Sao_Paulo')\n",
    "date = datetime.now(tz=tz).strftime('%Y%m%d')"
   ]
  },
  {
   "cell_type": "code",
   "execution_count": 134,
   "metadata": {},
   "outputs": [],
   "source": [
    "def create_connection(db_file):\n",
    "    conn = None\n",
    "    try:\n",
    "        conn = sqlite3.connect(db_file)\n",
    "    except Exception as e:\n",
    "        print(e)\n",
    "\n",
    "    return conn\n",
    "\n",
    "conn = create_connection(r'C:\\Users\\shigu\\Desktop\\dataeng_lendico\\sqlite\\sqlite.db')\n",
    "cur = conn.cursor()\n",
    "cur.close()\n",
    "conn.close()"
   ]
  },
  {
   "cell_type": "code",
   "execution_count": 135,
   "metadata": {},
   "outputs": [],
   "source": [
    "queue_url = r\"https://br1.api.riotgames.com/lol/league/v4/masterleagues/by-queue/RANKED_SOLO_5x5\"\n",
    "mastery_url = r\"https://br1.api.riotgames.com/lol/champion-mastery/v4/champion-masteries/by-summoner/\"\n",
    "\n",
    "path_daily = r'./masters_daily/'\n",
    "path_ids = r'./masters_ids/'"
   ]
  },
  {
   "cell_type": "code",
   "execution_count": 154,
   "metadata": {},
   "outputs": [],
   "source": [
    "def get_urldata(url,summonerId=''):\n",
    "    '''\n",
    "    \n",
    "    Get data from url based on queue_url or mastery_url (5x5 or summonerId)\n",
    "       - summonerId: default is \"\", set a summonerId if data is from a specific summoner\n",
    "       \n",
    "    '''\n",
    "    try:\n",
    "        url = url + summonerId\n",
    "\n",
    "        headers = {\n",
    "          'X-Riot-Token': 'RGAPI-bbe6d76b-5f4f-4629-99fc-7e09f75b4090'\n",
    "        }\n",
    "\n",
    "        resp = requests.request(\"GET\", url, headers=headers)\n",
    "        data = json.loads(resp.text)\n",
    "\n",
    "        if resp.status_code != 200:\n",
    "            sleep(5)\n",
    "            data = get_urldata(summonerId)\n",
    "        \n",
    "        return data\n",
    "    except Exception as e:\n",
    "        raise(e)"
   ]
  },
  {
   "cell_type": "code",
   "execution_count": 155,
   "metadata": {},
   "outputs": [],
   "source": [
    "def export_rdata(path,date,data,summonerId='league'):\n",
    "    '''\n",
    "    \n",
    "    Export data to .json files for 5x5 queue or summoner data(s).\n",
    "    Will only return data if summonerId is not \"league\"\n",
    "     - summonerId: default is \"league\", summonerId can be specified.\n",
    "     - Specify a path for which type of data is being exported as .json.\n",
    "    \n",
    "    '''\n",
    "    try:\n",
    "        with open(path+f'masters_rankedsolo_{date}_{summonerId}.json','w+') as datafile:\n",
    "            json.dump(data,datafile)\n",
    "            datafile.close()\n",
    "        if summonerId != 'league':\n",
    "            return data\n",
    "        else:\n",
    "            return 0\n",
    "    except Exception as e:\n",
    "        print(e)"
   ]
  },
  {
   "cell_type": "code",
   "execution_count": 138,
   "metadata": {},
   "outputs": [],
   "source": [
    "# Get 5x5 queue data\n",
    "queue_data = get_urldata(queue_url)\n",
    "\n",
    "# Export 5x5 queue data into .json file\n",
    "export_rdata(path_daily,date,queue_data)\n",
    "\n",
    "# Read queue data into dataframe\n",
    "queue_data = pd.read_json(json.dumps(queue_data))  \n",
    "\n",
    "# Exploded dict column values into columns\n",
    "exploded_data = pd.DataFrame(queue_data['entries'].values.tolist(), index=queue_data.index)\n",
    "\n",
    "# Concatenate exploded data into queue_data to get tabular denormalized format\n",
    "tabular_data = pd.concat([queue_data,exploded_data],axis=1)\n",
    "tabular_data.drop(columns='entries',inplace=True)"
   ]
  },
  {
   "cell_type": "markdown",
   "metadata": {},
   "source": [
    "### Visualization plotly"
   ]
  },
  {
   "cell_type": "code",
   "execution_count": 139,
   "metadata": {},
   "outputs": [],
   "source": [
    "# List of only few summonerIds\n",
    "test_data =tabular_data['summonerId'][0:5]"
   ]
  },
  {
   "cell_type": "code",
   "execution_count": 145,
   "metadata": {},
   "outputs": [],
   "source": [
    "# Get and store summonerId(s) data(s)\n",
    "merged = [export_rdata(path_ids,date,get_urldata(mastery_url,_id),_id) for _index,_id in enumerate(test_data)]"
   ]
  },
  {
   "cell_type": "code",
   "execution_count": 147,
   "metadata": {},
   "outputs": [],
   "source": [
    "# Transform list of dict into dataframe\n",
    "mastery_data = pd.DataFrame(list(chain.from_iterable(merged)))"
   ]
  },
  {
   "cell_type": "code",
   "execution_count": 157,
   "metadata": {},
   "outputs": [],
   "source": [
    "mastery_data.to_csv('pbitest.csv')"
   ]
  },
  {
   "cell_type": "code",
   "execution_count": 68,
   "metadata": {},
   "outputs": [
    {
     "data": {
      "application/vnd.jupyter.widget-view+json": {
       "model_id": "812722ebea7046739c4f750b9e25d541",
       "version_major": 2,
       "version_minor": 0
      },
      "text/plain": [
       "interactive(children=(Dropdown(description='summonerId', options=('DfxYS3lzWoyLfurRQDECyWzNdd3Hr_Fu2gGOMidH7o6…"
      ]
     },
     "metadata": {},
     "output_type": "display_data"
    }
   ],
   "source": [
    "from ipywidgets import interact, interactive, fixed, interact_manual\n",
    "import ipywidgets as widgets\n",
    "import plotly.express as px\n",
    "\n",
    "mastery_data = mastery_data.set_index('summonerId')\n",
    "mastery_data.sort_values(by=['championPoints','summonerId'], ascending=False,inplace=True)\n",
    "mastery_data.championLevel = mastery_data.championLevel.astype(str)\n",
    "\n",
    "def f(summonerId=mastery_data.index[0],n_champions='20'):\n",
    "    fig = px.bar(mastery_data.loc[summonerId].head(int(n_champions)),\n",
    "              x='championId', y='championPoints',\n",
    "              title=f'Top {n_champions} Champion(s) Points per summonerId',color='championLevel'\n",
    "             )\n",
    "    \n",
    "    fig.update_xaxes(type='category')\n",
    "    fig.show()\n",
    "    \n",
    "    \n",
    "fig = interact(f, summonerId=mastery_data.index,m_champions='')"
   ]
  },
  {
   "cell_type": "code",
   "execution_count": null,
   "metadata": {},
   "outputs": [],
   "source": []
  },
  {
   "cell_type": "markdown",
   "metadata": {},
   "source": [
    "### Approach #1 -> Spark"
   ]
  },
  {
   "cell_type": "markdown",
   "metadata": {},
   "source": [
    "data = spark.read.json(f'masters_rankedsolo_{date}.json')\n",
    "data.printSchema()\n",
    "- Transform json data into a tabular data\n",
    "\n",
    "exploded_data = data.select('leagueId','name','queue','tier',explode('entries'))\n",
    "\n",
    "exploded_data = exploded_data.select(\"col.*\",\"*\").drop('col').toPandas()"
   ]
  }
 ],
 "metadata": {
  "kernelspec": {
   "display_name": "Python 3",
   "language": "python",
   "name": "python3"
  },
  "language_info": {
   "codemirror_mode": {
    "name": "ipython",
    "version": 3
   },
   "file_extension": ".py",
   "mimetype": "text/x-python",
   "name": "python",
   "nbconvert_exporter": "python",
   "pygments_lexer": "ipython3",
   "version": "3.7.7"
  }
 },
 "nbformat": 4,
 "nbformat_minor": 4
}
