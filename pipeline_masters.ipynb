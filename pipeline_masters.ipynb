{
 "cells": [
  {
   "cell_type": "code",
   "execution_count": 1,
   "metadata": {},
   "outputs": [],
   "source": [
    "import requests\n",
    "import json\n",
    "import pandas as pd\n",
    "from datetime import datetime\n",
    "import time\n",
    "from time import sleep\n",
    "from itertools import chain\n",
    "import sqlite3\n",
    "import pytz\n",
    "\n",
    "tz = pytz.timezone('America/Sao_Paulo')\n",
    "date,date_db = datetime.now(tz=tz).strftime('%Y%m%d'),datetime.now(tz=tz).strftime('%Y-%m-%d')"
   ]
  },
  {
   "cell_type": "code",
   "execution_count": 2,
   "metadata": {},
   "outputs": [],
   "source": [
    "#Get api_key from file\n",
    "try:\n",
    "    with open('api.key','r') as api_file:\n",
    "        api_key = api_file.read()\n",
    "        api_file.close()\n",
    "        if api_key == '':\n",
    "            raise Exception('API_KEY does not exist.')\n",
    "except FileNotFoundError as err:\n",
    "    raise Exception('File or path is not specified.') from err"
   ]
  },
  {
   "cell_type": "code",
   "execution_count": 3,
   "metadata": {},
   "outputs": [],
   "source": [
    "#URLs and paths\n",
    "queue_url = r\"https://br1.api.riotgames.com/lol/league/v4/masterleagues/by-queue/RANKED_SOLO_5x5\"\n",
    "mastery_url = r\"https://br1.api.riotgames.com/lol/champion-mastery/v4/champion-masteries/by-summoner/\"\n",
    "\n",
    "path_daily = r'./masters_daily/'\n",
    "path_ids = r'./masters_ids/'"
   ]
  },
  {
   "cell_type": "code",
   "execution_count": 4,
   "metadata": {},
   "outputs": [],
   "source": [
    "#Create sqlite connection\n",
    "def create_connection(db_file):\n",
    "    conn = None\n",
    "    try:\n",
    "        conn = sqlite3.connect(db_file)\n",
    "    except Exception as e:\n",
    "        print(e)\n",
    "\n",
    "    return conn"
   ]
  },
  {
   "cell_type": "code",
   "execution_count": 5,
   "metadata": {},
   "outputs": [],
   "source": [
    "# GET data\n",
    "def get_urldata(url,summonerId=''):\n",
    "    '''\n",
    "    \n",
    "    Get data from url based on queue_url or mastery_url (5x5 or summonerId)\n",
    "       - summonerId: default is \"\", set a summonerId if data is from a specific summoner\n",
    "       \n",
    "    '''\n",
    "    try:\n",
    "        url = url + summonerId\n",
    "\n",
    "        headers = {\n",
    "          'X-Riot-Token': api_key\n",
    "        }\n",
    "\n",
    "        resp = requests.request(\"GET\", url, headers=headers)\n",
    "        data = json.loads(resp.text)\n",
    "\n",
    "        if resp.status_code != 200:\n",
    "            sleep(5)\n",
    "            data = get_urldata(summonerId)\n",
    "        \n",
    "        return data\n",
    "    except Exception as err:\n",
    "        raise(err)"
   ]
  },
  {
   "cell_type": "code",
   "execution_count": 6,
   "metadata": {},
   "outputs": [],
   "source": [
    "# Data to .json\n",
    "def export_rdata(path,date,data,summonerId='league'):\n",
    "    '''\n",
    "    \n",
    "    Export data to .json files for 5x5 queue or summoner data(s).\n",
    "    Will only return data if summonerId is not \"league\"\n",
    "     - summonerId: default is \"league\", summonerId can be specified.\n",
    "     - Specify a path for which type of data is being exported as .json.\n",
    "    \n",
    "    '''\n",
    "    try:\n",
    "        with open(path+f'masters_rankedsolo_{date}_{summonerId}.json','w+') as datafile:\n",
    "            json.dump(data,datafile)\n",
    "            datafile.close()\n",
    "        if summonerId != 'league':\n",
    "            return data\n",
    "        else:\n",
    "            return 0\n",
    "    except Exception as err:\n",
    "        raise(err)"
   ]
  },
  {
   "cell_type": "code",
   "execution_count": 7,
   "metadata": {},
   "outputs": [],
   "source": [
    "# Get 5x5 queue data \n",
    "queue_data = get_urldata(queue_url)\n",
    "\n",
    "# Export 5x5 queue data into .json file \n",
    "export_rdata(path_daily,date,queue_data)\n",
    "\n",
    "# Read queue data into dataframe \n",
    "queue_data = pd.read_json(json.dumps(queue_data))  "
   ]
  },
  {
   "cell_type": "code",
   "execution_count": 8,
   "metadata": {
    "scrolled": false
   },
   "outputs": [],
   "source": [
    "# Exploded dict column values into columns \n",
    "exploded_data = pd.DataFrame(queue_data['entries'].values.tolist(), index=queue_data.index)\n",
    "\n",
    "# Concatenate exploded data into queue_data to get tabular denormalized format \n",
    "tabular_data = pd.concat([queue_data,exploded_data],axis=1)\n",
    "tabular_data.drop(columns='entries',inplace=True)\n",
    "\n",
    "tabular_data['date'] = date_db\n",
    "\n",
    "# Delete today's date and Insert into riot.db\n",
    "conn = create_connection(r'.\\db\\riot.db')\n",
    "cursor = conn.cursor()\n",
    "\n",
    "cursor.execute(\"delete from masters_daily where date ='{}' \".format(date_db)) \n",
    "\n",
    "tabular_data.to_sql('masters_daily',con=conn,if_exists='append')\n",
    "\n",
    "cursor.close()\n",
    "conn.close()"
   ]
  },
  {
   "cell_type": "code",
   "execution_count": 9,
   "metadata": {},
   "outputs": [],
   "source": [
    "# List of only few summonerIds\n",
    "test_data =tabular_data['summonerId'][0:5]"
   ]
  },
  {
   "cell_type": "code",
   "execution_count": 10,
   "metadata": {},
   "outputs": [],
   "source": [
    "# Get and store summonerId(s) data(s)\n",
    "merged = [export_rdata(path_ids,date,get_urldata(mastery_url,_id),_id) for _index,_id in enumerate(test_data)]"
   ]
  },
  {
   "cell_type": "code",
   "execution_count": 11,
   "metadata": {},
   "outputs": [],
   "source": [
    "# Transform list of dict into dataframe\n",
    "mastery_data = pd.DataFrame(list(chain.from_iterable(merged)))"
   ]
  },
  {
   "cell_type": "code",
   "execution_count": 12,
   "metadata": {},
   "outputs": [],
   "source": [
    "# Delete today's date and Insert into riot.db\n",
    "conn = create_connection(r'.\\db\\riot.db')\n",
    "cursor = conn.cursor()\n",
    "\n",
    "cursor.execute(\"delete from summoner_table where date ='{}'\".format(date_db)) \n",
    "\n",
    "mastery_data['date'] = date_db\n",
    "\n",
    "mastery_data.to_sql('summoner_table',con=conn,if_exists='append')\n",
    "\n",
    "cursor.close()\n",
    "conn.close()"
   ]
  },
  {
   "cell_type": "code",
   "execution_count": 13,
   "metadata": {},
   "outputs": [],
   "source": [
    "# Get historical data from database and put as .csv for Power BI read (for no ODBC driver use)\n",
    "conn = create_connection(r'.\\db\\riot.db')\n",
    "\n",
    "stacked_data = pd.read_sql('select * from summoner_table',con=conn)\n",
    "\n",
    "conn.close()\n",
    "\n",
    "stacked_data.to_csv('pbix.csv',index=False)"
   ]
  },
  {
   "cell_type": "code",
   "execution_count": null,
   "metadata": {},
   "outputs": [],
   "source": []
  }
 ],
 "metadata": {
  "kernelspec": {
   "display_name": "Python 3",
   "language": "python",
   "name": "python3"
  },
  "language_info": {
   "codemirror_mode": {
    "name": "ipython",
    "version": 3
   },
   "file_extension": ".py",
   "mimetype": "text/x-python",
   "name": "python",
   "nbconvert_exporter": "python",
   "pygments_lexer": "ipython3",
   "version": "3.7.7"
  }
 },
 "nbformat": 4,
 "nbformat_minor": 4
}
