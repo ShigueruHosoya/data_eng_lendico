{
 "cells": [
  {
   "cell_type": "code",
   "execution_count": 1,
   "metadata": {},
   "outputs": [
    {
     "data": {
      "application/vnd.jupyter.widget-view+json": {
       "model_id": "d37ee21c01a446e3a3f862e5a610c6a4",
       "version_major": 2,
       "version_minor": 0
      },
      "text/plain": [
       "interactive(children=(Dropdown(description='summonerId', options=('NDGgIOuXT34JSNsSsu5diDD1-N8HIgTu58iI68yhXol…"
      ]
     },
     "metadata": {},
     "output_type": "display_data"
    }
   ],
   "source": [
    "from ipywidgets import interact, interactive, fixed, interact_manual\n",
    "import ipywidgets as widgets\n",
    "import plotly.express as px\n",
    "import pandas as pd\n",
    "import numpy as np\n",
    "\n",
    "stacked_data = pd.read_csv('pbix.csv')\n",
    "\n",
    "\n",
    "stacked_data = stacked_data.set_index('summonerId')\n",
    "stacked_data.sort_values(by=['championPoints','summonerId'], ascending=False,inplace=True)\n",
    "stacked_data.championLevel = stacked_data.championLevel.astype(str)\n",
    "\n",
    "def f(summonerId=stacked_data.index[0],n_champions='20'):\n",
    "    fig = px.bar(stacked_data.loc[summonerId].head(int(n_champions)),\n",
    "              x='championId', y='championPoints',\n",
    "              title=f'Top {n_champions} Champion(s) Points per summonerId',color='championLevel'\n",
    "             )\n",
    "    \n",
    "    fig.update_xaxes(type='category')\n",
    "    fig.show()\n",
    "    \n",
    "    \n",
    "fig = interact(f, summonerId=stacked_data.index,m_champions='')"
   ]
  },
  {
   "cell_type": "code",
   "execution_count": null,
   "metadata": {},
   "outputs": [],
   "source": []
  }
 ],
 "metadata": {
  "kernelspec": {
   "display_name": "Python 3",
   "language": "python",
   "name": "python3"
  },
  "language_info": {
   "codemirror_mode": {
    "name": "ipython",
    "version": 3
   },
   "file_extension": ".py",
   "mimetype": "text/x-python",
   "name": "python",
   "nbconvert_exporter": "python",
   "pygments_lexer": "ipython3",
   "version": "3.7.7"
  }
 },
 "nbformat": 4,
 "nbformat_minor": 4
}
